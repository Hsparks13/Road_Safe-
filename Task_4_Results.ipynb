{
  "cells": [
    {
      "cell_type": "code",
      "execution_count": 49,
      "metadata": {
        "id": "hWC7E4fdrO6s"
      },
      "outputs": [],
      "source": [
        "import tensorflow as tf\n",
        "import matplotlib.pyplot as plt"
      ]
    },
    {
      "cell_type": "code",
      "execution_count": 50,
      "metadata": {
        "id": "eQBdqMVN_Uum"
      },
      "outputs": [],
      "source": [
        "import keras\n",
        "from keras.models import Sequential"
      ]
    },
    {
      "cell_type": "code",
      "execution_count": 51,
      "metadata": {
        "id": "rNU5MEXl_Zvl"
      },
      "outputs": [],
      "source": [
        "model=Sequential()\n",
        "model_part1=tf.keras.applications.ResNet50(\n",
        "    include_top=False, \n",
        "    weights=\"imagenet\",\n",
        "    input_tensor=None,\n",
        "    input_shape=(32,32,3), \n",
        "    pooling='avg', \n",
        "    classes=10,\n",
        "  \n",
        ")\n",
        "#I will be adding a resize layer in the model itself.\n",
        "resize = tf.keras.layers.Resizing(\n",
        "    height=32,\n",
        "    width=32,\n",
        "    interpolation='bilinear',\n",
        "    crop_to_aspect_ratio=False,\n",
        ")\n",
        "for layer in model_part1.layers:\n",
        "    layer.trainable=False"
      ]
    },
    {
      "cell_type": "code",
      "execution_count": 52,
      "metadata": {
        "id": "aYMdenjG_ciF"
      },
      "outputs": [],
      "source": [
        "from keras.layers import Flatten,Dense"
      ]
    },
    {
      "cell_type": "code",
      "execution_count": 53,
      "metadata": {
        "id": "bkvxxYjPwp9I"
      },
      "outputs": [],
      "source": [
        "dict = {0: 'T-shirt',1: 'Trouser',2: 'Pullover',3: 'Dress',4: 'Coat',5: 'Sandal',6: 'Shirt',7: 'Sneaker',8: 'Bag',9: 'Ankle boot'}"
      ]
    },
    {
      "cell_type": "code",
      "execution_count": 54,
      "metadata": {
        "id": "UBBQeEs8A-KW"
      },
      "outputs": [],
      "source": [
        "model.add(resize)\n",
        "model.add(model_part1)"
      ]
    },
    {
      "cell_type": "code",
      "execution_count": 55,
      "metadata": {
        "id": "Cq6D5Qy3Af7L"
      },
      "outputs": [],
      "source": [
        "model.add(Flatten())\n",
        "model.add(Dense(512,activation='relu'))\n",
        "model.add(Dense(10,activation='softmax'))"
      ]
    },
    {
      "cell_type": "code",
      "execution_count": 56,
      "metadata": {
        "id": "DDM7YMeh5COv"
      },
      "outputs": [],
      "source": [
        "model.build(input_shape = (None,32,32,3))"
      ]
    },
    {
      "cell_type": "code",
      "execution_count": 57,
      "metadata": {
        "id": "C2BS8tWNxstf"
      },
      "outputs": [],
      "source": [
        "model.compile(optimizer=tf.keras.optimizers.Adam(learning_rate= 1e-3),\n",
        "     loss='sparse_categorical_crossentropy',\n",
        "     metrics=['accuracy'])"
      ]
    },
    {
      "cell_type": "code",
      "execution_count": 58,
      "metadata": {
        "colab": {
          "base_uri": "https://localhost:8080/"
        },
        "id": "tTg2IreEBH_7",
        "outputId": "941ca459-d5b2-4450-a2fd-d64b0b8fd4f4"
      },
      "outputs": [
        {
          "output_type": "stream",
          "name": "stdout",
          "text": [
            "Model: \"sequential_1\"\n",
            "_________________________________________________________________\n",
            " Layer (type)                Output Shape              Param #   \n",
            "=================================================================\n",
            " resizing_1 (Resizing)       (None, 32, 32, 3)         0         \n",
            "                                                                 \n",
            " resnet50 (Functional)       (None, 2048)              23587712  \n",
            "                                                                 \n",
            " flatten_1 (Flatten)         (None, 2048)              0         \n",
            "                                                                 \n",
            " dense_2 (Dense)             (None, 512)               1049088   \n",
            "                                                                 \n",
            " dense_3 (Dense)             (None, 10)                5130      \n",
            "                                                                 \n",
            "=================================================================\n",
            "Total params: 24,641,930\n",
            "Trainable params: 1,054,218\n",
            "Non-trainable params: 23,587,712\n",
            "_________________________________________________________________\n"
          ]
        }
      ],
      "source": [
        "model.summary()"
      ]
    },
    {
      "cell_type": "code",
      "execution_count": 59,
      "metadata": {
        "id": "oV5zoQsSBPrS"
      },
      "outputs": [],
      "source": [
        "fashion_mnist=keras.datasets.fashion_mnist"
      ]
    },
    {
      "cell_type": "code",
      "execution_count": 60,
      "metadata": {
        "id": "UIhbcl1eBy6j"
      },
      "outputs": [],
      "source": [
        "(X_train,Y_train),(X_test,Y_test)=fashion_mnist.load_data()"
      ]
    },
    {
      "cell_type": "code",
      "execution_count": 61,
      "metadata": {
        "colab": {
          "base_uri": "https://localhost:8080/"
        },
        "id": "0AZnit7eCPD1",
        "outputId": "0fdaefd3-f8fe-4c89-f28f-fe7b981fc267"
      },
      "outputs": [
        {
          "output_type": "stream",
          "name": "stdout",
          "text": [
            "(60000, 28, 28)\n"
          ]
        }
      ],
      "source": [
        "print(X_train.shape)"
      ]
    },
    {
      "cell_type": "code",
      "execution_count": 62,
      "metadata": {
        "colab": {
          "base_uri": "https://localhost:8080/"
        },
        "id": "U_ilMth8C_oc",
        "outputId": "8de03415-2cc3-48ab-b742-5c870ceee094"
      },
      "outputs": [
        {
          "output_type": "execute_result",
          "data": {
            "text/plain": [
              "(28, 28)"
            ]
          },
          "metadata": {},
          "execution_count": 62
        }
      ],
      "source": [
        "X_train[0].shape"
      ]
    },
    {
      "cell_type": "code",
      "execution_count": 63,
      "metadata": {
        "id": "oXF0QmjfCT8i"
      },
      "outputs": [],
      "source": [
        "#it is grey scale\n",
        "#it has fix size of 28,28"
      ]
    },
    {
      "cell_type": "code",
      "execution_count": 64,
      "metadata": {
        "id": "bY1MNUXBDFuD"
      },
      "outputs": [],
      "source": [
        "import cv2\n",
        "import numpy as np"
      ]
    },
    {
      "cell_type": "code",
      "execution_count": 65,
      "metadata": {
        "id": "t9GwiotBu0bV"
      },
      "outputs": [],
      "source": [
        "X = np.zeros((X_train.shape[0],28,28,3),dtype=int)"
      ]
    },
    {
      "cell_type": "code",
      "execution_count": 66,
      "metadata": {
        "id": "hJtDRUC3DH0Y"
      },
      "outputs": [],
      "source": [
        "for i in range(X_train.shape[0]):      \n",
        "      img= cv2.cvtColor(X_train[i],cv2.COLOR_GRAY2RGB) #use loop for converting all images\n",
        "      X[i] = img     "
      ]
    },
    {
      "cell_type": "code",
      "execution_count": 67,
      "metadata": {
        "colab": {
          "base_uri": "https://localhost:8080/",
          "height": 282
        },
        "id": "AtV9WpN9vsbx",
        "outputId": "e2893e53-fec2-4e90-a0c5-f8e09873ff10"
      },
      "outputs": [
        {
          "output_type": "execute_result",
          "data": {
            "text/plain": [
              "<matplotlib.image.AxesImage at 0x7f063c622810>"
            ]
          },
          "metadata": {},
          "execution_count": 67
        },
        {
          "output_type": "display_data",
          "data": {
            "text/plain": [
              "<Figure size 432x288 with 1 Axes>"
            ],
            "image/png": "[encoded data removed]"
          },
          "metadata": {
            "needs_background": "light"
          }
        }
      ],
      "source": [
        "plt.imshow(X[57])"
      ]
    },
    {
      "cell_type": "code",
      "execution_count": 68,
      "metadata": {
        "colab": {
          "base_uri": "https://localhost:8080/"
        },
        "id": "3vrjKWN5DNnJ",
        "outputId": "c9770bab-58ca-4f20-9394-8d54bc878361"
      },
      "outputs": [
        {
          "output_type": "execute_result",
          "data": {
            "text/plain": [
              "(60000, 28, 28, 3)"
            ]
          },
          "metadata": {},
          "execution_count": 68
        }
      ],
      "source": [
        "X.shape"
      ]
    },
    {
      "cell_type": "code",
      "execution_count": 69,
      "metadata": {
        "colab": {
          "base_uri": "https://localhost:8080/",
          "height": 36
        },
        "id": "1fJ4qz7pmFzZ",
        "outputId": "1570b969-269c-4f48-b7d0-7524c748791e"
      },
      "outputs": [
        {
          "output_type": "execute_result",
          "data": {
            "text/plain": [
              "'Bag'"
            ],
            "application/vnd.google.colaboratory.intrinsic+json": {
              "type": "string"
            }
          },
          "metadata": {},
          "execution_count": 69
        }
      ],
      "source": [
        "dict[Y_train[57]]"
      ]
    },
    {
      "cell_type": "code",
      "execution_count": 70,
      "metadata": {
        "id": "3UqoB-D1ytna"
      },
      "outputs": [],
      "source": [
        "X=X/255.0"
      ]
    },
    {
      "cell_type": "code",
      "execution_count": 71,
      "metadata": {
        "colab": {
          "base_uri": "https://localhost:8080/"
        },
        "id": "2L7441Wsym98",
        "outputId": "ccab72ec-8098-4808-ae83-b40540d3c42b"
      },
      "outputs": [
        {
          "output_type": "stream",
          "name": "stdout",
          "text": [
            "Epoch 1/10\n",
            "1688/1688 [==============================] - 38s 21ms/step - loss: 0.9138 - accuracy: 0.6581 - val_loss: 0.7035 - val_accuracy: 0.7380\n",
            "Epoch 2/10\n",
            "1688/1688 [==============================] - 31s 18ms/step - loss: 0.7197 - accuracy: 0.7273 - val_loss: 0.6629 - val_accuracy: 0.7492\n",
            "Epoch 3/10\n",
            "1688/1688 [==============================] - 28s 16ms/step - loss: 0.6807 - accuracy: 0.7420 - val_loss: 0.6658 - val_accuracy: 0.7492\n",
            "Epoch 4/10\n",
            "1688/1688 [==============================] - 26s 16ms/step - loss: 0.6548 - accuracy: 0.7521 - val_loss: 0.5938 - val_accuracy: 0.7777\n",
            "Epoch 5/10\n",
            "1688/1688 [==============================] - 27s 16ms/step - loss: 0.6450 - accuracy: 0.7554 - val_loss: 0.6172 - val_accuracy: 0.7707\n",
            "Epoch 6/10\n",
            "1688/1688 [==============================] - 27s 16ms/step - loss: 0.6217 - accuracy: 0.7658 - val_loss: 0.5699 - val_accuracy: 0.7935\n",
            "Epoch 7/10\n",
            "1688/1688 [==============================] - 26s 16ms/step - loss: 0.6097 - accuracy: 0.7692 - val_loss: 0.5918 - val_accuracy: 0.7877\n",
            "Epoch 8/10\n",
            "1688/1688 [==============================] - 26s 16ms/step - loss: 0.6004 - accuracy: 0.7747 - val_loss: 0.5438 - val_accuracy: 0.7997\n",
            "Epoch 9/10\n",
            "1688/1688 [==============================] - 26s 16ms/step - loss: 0.5872 - accuracy: 0.7793 - val_loss: 0.5674 - val_accuracy: 0.7925\n",
            "Epoch 10/10\n",
            "1688/1688 [==============================] - 26s 16ms/step - loss: 0.5764 - accuracy: 0.7854 - val_loss: 0.5633 - val_accuracy: 0.7937\n"
          ]
        },
        {
          "output_type": "execute_result",
          "data": {
            "text/plain": [
              "<keras.callbacks.History at 0x7f063d874890>"
            ]
          },
          "metadata": {},
          "execution_count": 71
        }
      ],
      "source": [
        "model.fit(X, Y_train,epochs=10,validation_split=0.1)"
      ]
    },
    {
      "cell_type": "markdown",
      "metadata": {
        "id": "8ow9nH1g7SJU"
      },
      "source": [
        "**PREDICT**\n",
        "\n"
      ]
    },
    {
      "cell_type": "code",
      "source": [
        "X1 = np.zeros((X_test.shape[0],28,28,3),dtype=int)"
      ],
      "metadata": {
        "id": "OSxZFIEsJ9LA"
      },
      "execution_count": 72,
      "outputs": []
    },
    {
      "cell_type": "code",
      "execution_count": 73,
      "metadata": {
        "id": "_vnbQCsC7Qf3"
      },
      "outputs": [],
      "source": [
        "for i in range(X_test.shape[0]):      \n",
        "      img= cv2.cvtColor(X_test[i],cv2.COLOR_GRAY2RGB) #use loop for converting all images\n",
        "      X1[i] = img     "
      ]
    },
    {
      "cell_type": "code",
      "source": [
        "plt.imshow(X1[1635])"
      ],
      "metadata": {
        "colab": {
          "base_uri": "https://localhost:8080/",
          "height": 282
        },
        "id": "SHVyz_tVK5b1",
        "outputId": "52b2f406-9726-4d60-dda4-f7b66aec38c3"
      },
      "execution_count": 85,
      "outputs": [
        {
          "output_type": "execute_result",
          "data": {
            "text/plain": [
              "<matplotlib.image.AxesImage at 0x7f063b062dd0>"
            ]
          },
          "metadata": {},
          "execution_count": 85
        },
        {
          "output_type": "display_data",
          "data": {
            "text/plain": [
              "<Figure size 432x288 with 1 Axes>"
            ],
            "image/png": "[encoded data removed]"
          },
          "metadata": {
            "needs_background": "light"
          }
        }
      ]
    },
    {
      "cell_type": "code",
      "source": [
        "X1 = X1/255.0"
      ],
      "metadata": {
        "id": "nQJPtJ8FLAUs"
      },
      "execution_count": 75,
      "outputs": []
    },
    {
      "cell_type": "code",
      "source": [
        "y = model.predict(X1)\n"
      ],
      "metadata": {
        "id": "fs8o0r5tG8bu"
      },
      "execution_count": 76,
      "outputs": []
    },
    {
      "cell_type": "code",
      "source": [
        "dict[np.argmax(y[1635])]"
      ],
      "metadata": {
        "colab": {
          "base_uri": "https://localhost:8080/",
          "height": 36
        },
        "id": "dN1S9fRDJQ64",
        "outputId": "2b315a51-a302-4b32-8888-e4791d08734a"
      },
      "execution_count": 83,
      "outputs": [
        {
          "output_type": "execute_result",
          "data": {
            "text/plain": [
              "'Trouser'"
            ],
            "application/vnd.google.colaboratory.intrinsic+json": {
              "type": "string"
            }
          },
          "metadata": {},
          "execution_count": 83
        }
      ]
    },
    {
      "cell_type": "code",
      "source": [
        "dict[Y_test[1635]]"
      ],
      "metadata": {
        "colab": {
          "base_uri": "https://localhost:8080/",
          "height": 36
        },
        "id": "mdO-XIC7LMeN",
        "outputId": "9eae5f5d-d442-46a5-bcca-73b68d574dc3"
      },
      "execution_count": 84,
      "outputs": [
        {
          "output_type": "execute_result",
          "data": {
            "text/plain": [
              "'Trouser'"
            ],
            "application/vnd.google.colaboratory.intrinsic+json": {
              "type": "string"
            }
          },
          "metadata": {},
          "execution_count": 84
        }
      ]
    }
  ],
  "metadata": {
    "accelerator": "GPU",
    "colab": {
      "collapsed_sections": [],
      "name": "Untitled3.ipynb",
      "provenance": []
    },
    "gpuClass": "standard",
    "kernelspec": {
      "display_name": "Python 3",
      "name": "python3"
    },
    "language_info": {
      "name": "python"
    }
  },
  "nbformat": 4,
  "nbformat_minor": 0
}